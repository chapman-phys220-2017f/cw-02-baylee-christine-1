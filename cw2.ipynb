{
 "cells": [
  {
   "cell_type": "markdown",
   "metadata": {
    "collapsed": false
   },
   "source": [
    "# Classwork 2"
   ]
  },
  {
   "cell_type": "markdown",
   "metadata": {
    "collapsed": false
   },
   "source": [
    "## By Baylee Mumma and Christine Outlaw"
   ]
  },
  {
   "cell_type": "markdown",
   "metadata": {
    "collapsed": false
   },
   "source": [
    "### 1. Exercise 1: Generate equally spaced coordinates"
   ]
  },
  {
   "cell_type": "markdown",
   "metadata": {
    "collapsed": false
   },
   "source": [
    "(a) Create a function coord_for(n, a=0, b=1) that takes three parameters: n is the integer number of intervals, a is the interval left endpoint, and b is the interval right endpoint. Note that the endpoints a and b are keyword parameters with default values of 0 and 1, respectively. To generate the coordinates, start with an empty list, then use a for loop and append each equally spaced x coordinate to the list. Return the completed list."
   ]
  },
  {
   "cell_type": "code",
   "execution_count": 6,
   "metadata": {
    "cocalc": {
     "outputs": {
      "1": {
       "name": "input",
       "opts": {
        "password": false,
        "prompt": "Input the number of intervals: "
       },
       "output_type": "stream",
       "value": "4"
      },
      "2": {
       "name": "input",
       "opts": {
        "password": false,
        "prompt": "Input a start point: "
       },
       "output_type": "stream",
       "value": "2"
      },
      "3": {
       "name": "input",
       "opts": {
        "password": false,
        "prompt": "Input the end point: "
       },
       "output_type": "stream",
       "value": "6"
      }
     }
    },
    "collapsed": false
   },
   "outputs": [
    {
     "name": "stdout",
     "output_type": "stream",
     "text": [
      "Enter 3 values; n, number of intervals, a, starting point, and b, end point.\n"
     ]
    },
    {
     "name": "stdout",
     "output_type": "stream",
     "text": "Input the number of intervals:  4"
    },
    {
     "name": "stdout",
     "output_type": "stream",
     "text": "Input a start point:  2"
    },
    {
     "name": "stdout",
     "output_type": "stream",
     "text": "Input the end point:  6"
    },
    {
     "name": "stdout",
     "output_type": "stream",
     "text": [
      "For loop: [2.0, 3.0, 4.0, 5.0, 6.0]\n",
      "While loop: [2.0, 3.0, 4.0, 5.0, 6.0]\n",
      "List comprehension: [2.0, 3.0, 4.0, 5.0, 6.0]\n"
     ]
    }
   ],
   "source": [
    "#!/usr/bin/env python\n",
    "\n",
    "\"\"\"\n",
    "Christine Outlaw\n",
    "1912737\n",
    "outla100@mail.chapman.edu\n",
    "PHYS220\n",
    "CW 02\n",
    "\"\"\"\n",
    "\n",
    "\"\"\"\n",
    "3 ways to generate equally spaced coordinates with an interval.\n",
    "\"\"\"\n",
    "\n",
    "# Using a for loop\n",
    "def coord_for(n,a,b):\n",
    "    h=(b-a)/n\n",
    "    x_for =[]\n",
    "    for i in range(n+1):\n",
    "        x_for.append((a+(i*h)))\n",
    "    return x_for\n",
    "\n",
    "\n",
    "# Using a while loop\n",
    "def coord_while(n,a,b):\n",
    "    h=(b-a)/n\n",
    "    x_while=[]\n",
    "    while a<=b:\n",
    "        x_while.append(a)\n",
    "        a = a+h\n",
    "    return x_while\n",
    "\n",
    "\n",
    "\n",
    "# Using a list Comprehension\n",
    "def coord_comp(n,a,b):\n",
    "    h=(b-a)/n\n",
    "    x_list =[(a+(i*h)) for i in range(n+1)]\n",
    "    return x_list\n",
    "\n",
    "\"\"\"\n",
    "Main block which takes in user input and calls the 3 previously defined functions.\n",
    "\"\"\"\n",
    "if __name__ == \"__main__\":\n",
    "    print(\"Enter 3 values; n, number of intervals, a, starting point, and b, end point.\")\n",
    "    n = int(input(\"Input the number of intervals: \"))\n",
    "    a = float(input(\"Input a start point: \"))\n",
    "    b = float(input(\"Input the end point: \"))\n",
    "    print(\"For loop: \" + str(coord_for(n,a,b)))\n",
    "    print(\"While loop: \" + str(coord_while(n,a,b)))\n",
    "    print(\"List comprehension: \" + str(coord_comp(n,a,b)))"
   ]
  },
  {
   "cell_type": "markdown",
   "metadata": {
    "collapsed": false
   },
   "source": [
    "### 2. Exercise 2: Generate Fibonacci numbers"
   ]
  },
  {
   "cell_type": "markdown",
   "metadata": {
    "collapsed": false
   },
   "source": [
    "(a) Create a function fibs(n) that takes one positive integer parameter n and returns a list of the first n Fibonacci numbers.\n",
    "\n",
    "(b) Create a function fib_generator() that returns a generator (i.e., using the yield keyword instead of return) for the next Fibonacci number, starting with the number 1. Done correctly, the following code should return the list [1,1,2,3,5]"
   ]
  },
  {
   "cell_type": "code",
   "execution_count": 8,
   "metadata": {
    "collapsed": false
   },
   "outputs": [
    {
     "name": "stdout",
     "output_type": "stream",
     "text": [
      "[1, 1, 2, 3, 5]\n"
     ]
    }
   ],
   "source": [
    "#!/usr/bin/env python\n",
    "'''\n",
    "Baylee Mumma\n",
    "mumma103@mail.chapman.edu\n",
    "PHYS220-01\n",
    "CW 02\n",
    "'''\n",
    "#Function to compute fibonacci sequence\n",
    "def fibs(n):\n",
    "    fl = [1,1]\n",
    "    if n == 1:\n",
    "        return 1\n",
    "    elif n == 0:\n",
    "        return 0\n",
    "    else:\n",
    "        for i in range(2,n):\n",
    "            fl.append(fl[i-2]+fl[i-1])\n",
    "            return fl\n",
    "#Generator that store previous number    \n",
    "def fib_generator():\n",
    "    a = 1\n",
    "    b = 1\n",
    "    while True:\n",
    "        yield a\n",
    "        a,b = b,a+b\n",
    "    \n",
    "g = fib_generator()\n",
    "fl = [next(g) for _ in range(5)]\n",
    "print(fl) \n"
   ]
  },
  {
   "cell_type": "markdown",
   "metadata": {
    "collapsed": false
   },
   "source": [
    "### 3. Exercise 3: Compute convergent sum"
   ]
  },
  {
   "cell_type": "markdown",
   "metadata": {
    "collapsed": false
   },
   "source": [
    "(a) Create a function compute_sum(tol=1e-2) that returns the value of the sum. The keyword parameter tol specifies a tolerance. Stop the summation when the next term of the sum would be smaller than this tolerance.\n",
    "\n",
    "(b) Show to what value does the sum converges as you let the tolerance become smaller and smaller."
   ]
  },
  {
   "cell_type": "code",
   "execution_count": 10,
   "metadata": {
    "collapsed": false,
    "scrolled": true
   },
   "outputs": [
    {
     "name": "stdout",
     "output_type": "stream",
     "text": [
      "The sum converges at 1 when tolerance is set to 1e-2\n",
      "The sum converges at 1 when tolerance is set to 1e-10. This can be rounded to 1.645\n"
     ]
    }
   ],
   "source": [
    "#!/usr/bin/env python\n",
    "\n",
    "\"\"\"\n",
    "Christine Outlaw\n",
    "1912737\n",
    "outla100@mail.chapman.edu\n",
    "PHYS220-01\n",
    "CW 02\n",
    "\"\"\"\n",
    "\n",
    "\"\"\"\n",
    "Function to compute the infinite sum.\n",
    "\"\"\"\n",
    "\n",
    "def compute_sum(tol):\n",
    "    k=1\n",
    "    con_sum = 0\n",
    "    next_term = 1/(k**2)\n",
    "    while tol<next_term:\n",
    "        next_term = 1/(k**2)\n",
    "        con_sum+=next_term\n",
    "        k+=1\n",
    "    return con_sum\n",
    "\n",
    "\"\"\"\n",
    "Main block calling the function and showing the value to which the sum converges to as tolerance gets smaller\n",
    "\"\"\"\n",
    "if __name__ == '__main__':\n",
    "    convergence = str(compute_sum(tol=1e-2))\n",
    "    print(\"The sum converges at \"+convergence+\" when tolerance is set to 1e-2\")\n",
    "    small_tol_convergence = str(compute_sum(tol=1e-10))\n",
    "    print(\"The sum converges at \"+small_tol_convergence+\" when tolerance is set to 1e-10. This can be rounded to 1.645\")"
   ]
  }
 ],
 "metadata": {
  "kernelspec": {
   "display_name": "Python 2 (SageMath)",
   "language": "python",
   "name": "python2"
  },
  "language_info": {
   "codemirror_mode": {
    "name": "ipython",
    "version": 2
   },
   "file_extension": ".py",
   "mimetype": "text/x-python",
   "name": "python",
   "nbconvert_exporter": "python",
   "pygments_lexer": "ipython2",
   "version": "2.7.13"
  }
 },
 "nbformat": 4,
 "nbformat_minor": 0
}